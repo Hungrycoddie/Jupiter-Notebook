{
 "cells": [
  {
   "cell_type": "code",
   "execution_count": null,
   "metadata": {},
   "outputs": [],
   "source": [
    "import sys\n",
    "from ctypes import CDLL\n",
    "# This will crash a Linux or Mac system\n",
    "# equivalent calls can be made on Windows\n",
    "# Uncomment these lines if you would like to see the segfault\n",
    "# dll = 'dylib' if sys.platform == 'darwin' else 'so.6' # libc = CDLL(\"libc.%s\" % dll)\n",
    "# libc.time(-1) # BOOM!!"
   ]
  },
  {
   "cell_type": "markdown",
   "metadata": {},
   "source": [
    "sys.stdout and sys.stderr"
   ]
  },
  {
   "cell_type": "code",
   "execution_count": null,
   "metadata": {},
   "outputs": [],
   "source": [
    "print(\"hi, stdout\")"
   ]
  },
  {
   "cell_type": "code",
   "execution_count": null,
   "metadata": {},
   "outputs": [],
   "source": [
    "from __future__ import print_function \n",
    "print('hi, stderr', file=sys.stderr)"
   ]
  },
  {
   "cell_type": "markdown",
   "metadata": {},
   "source": [
    "All output is displayed asynchronously as it is generated in the Kernel. If you execute the next cell, you will see the output one piece at a time, not all at the end."
   ]
  },
  {
   "cell_type": "code",
   "execution_count": null,
   "metadata": {},
   "outputs": [],
   "source": [
    "import time, sys \n",
    "for i in range(8):\n",
    "    print(i)\n",
    "    time.sleep(0.5)\n",
    "    "
   ]
  },
  {
   "cell_type": "markdown",
   "metadata": {},
   "source": [
    "Large outputs\n",
    "To better handle large outputs, the output area can be collapsed. Run the following cell and then single- or double- click on the active area to the left of the output:"
   ]
  },
  {
   "cell_type": "code",
   "execution_count": null,
   "metadata": {},
   "outputs": [],
   "source": [
    "for i in range(50): \n",
    "    print(i)"
   ]
  },
  {
   "cell_type": "markdown",
   "metadata": {},
   "source": [
    "Beyond a certain point, output will scroll automatically:"
   ]
  },
  {
   "cell_type": "code",
   "execution_count": null,
   "metadata": {},
   "outputs": [],
   "source": [
    "for i in range(500): \n",
    "    print(2**i - 1)"
   ]
  },
  {
   "cell_type": "markdown",
   "metadata": {},
   "source": [
    "Embedded code \n",
    "embed code meant for illustration instead of execution in Python:\n"
   ]
  },
  {
   "cell_type": "code",
   "execution_count": null,
   "metadata": {},
   "outputs": [],
   "source": [
    "def f(x):\n",
    "    \"\"\"a docstring\"\"\"\n",
    "    return x**2"
   ]
  },
  {
   "cell_type": "markdown",
   "metadata": {},
   "source": [
    "LaTeX equations\n",
    "Courtesy of MathJax, you can include mathematical expressions both inline: 𝑒𝑖𝜋 + 1 = 0 and displayed:\n"
   ]
  },
  {
   "cell_type": "code",
   "execution_count": null,
   "metadata": {},
   "outputs": [],
   "source": [
    "#Inline expressions can be added by surrounding the latex code with $:\n",
    "$e^{i\\pi} + 1 = 0$"
   ]
  },
  {
   "cell_type": "code",
   "execution_count": null,
   "metadata": {},
   "outputs": [],
   "source": [
    "#Expressions on their own line are surrounded by \\begin{equation} and \\end{equation}:\n",
    "\\begin{equation} \n",
    "e^x=\\sum_{i=0}^\\infty \\frac{1}{i!}x^i \n",
    "\\end{equation}"
   ]
  },
  {
   "cell_type": "markdown",
   "metadata": {},
   "source": [
    "\n",
    "GitHub flavored markdown\n",
    "The Notebook webapp supports Github flavored markdown meaning that you can use triple backticks for code blocks:"
   ]
  },
  {
   "cell_type": "code",
   "execution_count": null,
   "metadata": {},
   "outputs": [],
   "source": [
    "'''python\n",
    "print \"Hello World\" \n",
    "'''\n",
    "#you can run python and javascript using the three (''') at the beging of the code and at the end \n",
    " \n",
    "'''\n",
    "console.log(\"Hello World\")\n",
    "'''"
   ]
  },
  {
   "cell_type": "markdown",
   "metadata": {},
   "source": [
    "Local files\n",
    "If you have local files in your Notebook directory, you can refer to these files in Markdown cells directly:"
   ]
  },
  {
   "cell_type": "code",
   "execution_count": null,
   "metadata": {},
   "outputs": [],
   "source": [
    "[subdirectory/] <filename>\n",
    "\n",
    "#For example, in the images folder, we have the Python logo:\n",
    "\n",
    "<img src=\"../images/python_logo.svg\" />\n",
    "\n",
    "#and a video with the HTML5 video tag:\n",
    "    \n",
    "\n",
    "<video controls src=\"../images/animation.m4v\">animation</video>"
   ]
  },
  {
   "cell_type": "markdown",
   "metadata": {},
   "source": [
    "Files are stored in cell metadata and will be automatically scrubbed at save-time if not referenced. You can recognized attached images from other files by their url that starts with attachment:. For the image above:"
   ]
  },
  {
   "cell_type": "code",
   "execution_count": null,
   "metadata": {},
   "outputs": [],
   "source": [
    "![pycon-logo.jpg](attachment:pycon-logo.jpg)\n",
    "#Keep in mind that attached files will increase the size of your notebook.\n",
    "#You can manually edit the attachment by using the View > Cell Toolbar > Attachment menu, but you should not need to."
   ]
  },
  {
   "cell_type": "markdown",
   "metadata": {},
   "source": [
    "Importing Jupyter Notebooks as Modules"
   ]
  },
  {
   "cell_type": "markdown",
   "metadata": {},
   "source": [
    "Import hooks typically take the form of two objects:\n",
    "1. a Module Loader, which takes a module name (e.g. 'IPython.display'), and returns a Module\n",
    "2. a Module Finder, which figures out whether a module might exist, and tells Python what Loader to use\n"
   ]
  },
  {
   "cell_type": "code",
   "execution_count": null,
   "metadata": {},
   "outputs": [],
   "source": [
    "import io, os, sys, types\n",
    "from IPython import get_ipython\n",
    "from nbformat import read\n",
    "from IPython.core.interactiveshell import InteractiveShell\n",
    "\n",
    "def find_notebook(fullname, path=None):\n",
    "    \n",
    "    \n",
    "    \"\"\"find a notebook, given its fully qualified name and an optional path\n",
    "This turns \"foo.bar\" into \"foo/bar.ipynb\"\n",
    "and tries turning \"Foo_Bar\" into \"Foo Bar\" if Foo_Bar does not exist.\n",
    "\"\"\"\n",
    "\n",
    "    name = fullname.rsplit('.', 1)[-1]\n",
    "    if not path:\n",
    "        path = [''] \n",
    "    for d in path:\n",
    "        nb_path = os.path.join(d, name + \".ipynb\") \n",
    "        if os.path.isfile(nb_path):\n",
    "            return nb_path\n",
    "# let import Notebook_Name find \"Notebook Name.ipynb\" nb_path = nb_path.replace(\"_\", \" \")\n",
    "    if os.path.isfile(nb_path):\n",
    "        return nb_path\n",
    "\n"
   ]
  },
  {
   "cell_type": "markdown",
   "metadata": {},
   "source": [
    "Notebook Loader\n",
    "Here we have our Notebook Loader. It’s actually quite simple - once we figure out the filename of the module, all it does is:\n",
    "\n",
    "1. load the notebook document into memory 2. create an empty Module\n",
    "3. execute every cell in the Module namespace\n",
    "\n",
    "Since IPython cells can have extended syntax, the IPython transform is applied to turn each of these cells into their pure-Python counterparts before executing them. If all of your notebook cells are pure-Python, this step is unnecessary."
   ]
  },
  {
   "cell_type": "code",
   "execution_count": null,
   "metadata": {},
   "outputs": [],
   "source": [
    "class NotebookLoader(object):\n",
    "    \"\"\"Module Loader for Jupyter Notebooks\"\"\" \n",
    "    def __init__(self, path=None):\n",
    "        self.shell = InteractiveShell.instance()\n",
    "        self.path = path\n",
    "def load_module(self, fullname):\n",
    "    \"\"\"import a notebook as a module\"\"\"\n",
    "    path = find_notebook(fullname, self.path)\n",
    "    \n",
    "    print (\"importing Jupyter notebook from %s\" % path)\n",
    "    \n",
    "    # load the notebook object\n",
    "    with io.open(path, 'r', encoding='utf-8') as f:\n",
    "        nb = read(f, 4)\n",
    "    # create the module and add it to sys.modules # if name in sys.modules:\n",
    "# return sys.modules[name]\n",
    "    mod = types.ModuleType(fullname)\n",
    "    mod.__file__ = path\n",
    "    mod.__loader__ = self \n",
    "    mod.__dict__['get_ipython'] = get_ipython \n",
    "    sys.modules[fullname] = mod\n",
    "# extra work to ensure that magics that would affect the user_ns \n",
    "# actually affect the notebook module's ns\n",
    "    save_user_ns = self.shell.user_ns\n",
    "    self.shell.user_ns = mod.__dict__\n",
    "    try:\n",
    "        for cell in nb.cells:\n",
    "            if cell.cell_type == 'code':\n",
    "                # transform the input to executable Python\n",
    "                code = self.shell.input_transformer_manager.transform_cell(cell.source) \n",
    "                # run the code in themodule\n",
    "                exec(code, mod.__dict__)\n",
    "    finally:\n",
    "        self.shell.user_ns = save_user_ns \n",
    "        return mod "
   ]
  }
 ],
 "metadata": {
  "kernelspec": {
   "display_name": "Python 3.10.5 64-bit",
   "language": "python",
   "name": "python3"
  },
  "language_info": {
   "codemirror_mode": {
    "name": "ipython",
    "version": 3
   },
   "file_extension": ".py",
   "mimetype": "text/x-python",
   "name": "python",
   "nbconvert_exporter": "python",
   "pygments_lexer": "ipython3",
   "version": "3.10.5"
  },
  "orig_nbformat": 4,
  "vscode": {
   "interpreter": {
    "hash": "aee8b7b246df8f9039afb4144a1f6fd8d2ca17a180786b69acc140d282b71a49"
   }
  }
 },
 "nbformat": 4,
 "nbformat_minor": 2
}
